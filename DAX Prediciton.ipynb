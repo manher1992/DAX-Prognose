{
 "cells": [
  {
   "cell_type": "code",
   "execution_count": 1,
   "metadata": {},
   "outputs": [
    {
     "name": "stderr",
     "output_type": "stream",
     "text": [
      "/anaconda3/lib/python3.6/site-packages/sklearn/cross_validation.py:41: DeprecationWarning: This module was deprecated in version 0.18 in favor of the model_selection module into which all the refactored classes and functions are moved. Also note that the interface of the new CV iterators are different from that of this module. This module will be removed in 0.20.\n",
      "  \"This module will be removed in 0.20.\", DeprecationWarning)\n"
     ]
    }
   ],
   "source": [
    "import pandas as pd\n",
    "import quandl\n",
    "import math\n",
    "import numpy as np\n",
    "from sklearn import preprocessing, cross_validation, svm\n",
    "from sklearn.linear_model import LinearRegression\n",
    "import matplotlib.pyplot as plt\n",
    "from matplotlib import style\n",
    "import datetime"
   ]
  },
  {
   "cell_type": "code",
   "execution_count": 2,
   "metadata": {},
   "outputs": [],
   "source": [
    "df = quandl.get('FSE/ADS_X',start_date=\"2017-01-01\", end_date=\"2018-01-02\", authoken='paPQhtsw_4qE95W_pUaa')\n",
    "df.rename(columns={'Traded Volume':'Volume'}, inplace=True)\n",
    "df = df[['Open', 'High', 'Low', 'Close', 'Volume']]"
   ]
  },
  {
   "cell_type": "code",
   "execution_count": 3,
   "metadata": {},
   "outputs": [
    {
     "name": "stdout",
     "output_type": "stream",
     "text": [
      "              Open    High     Low   Close     Volume\n",
      "Date                                                 \n",
      "2017-01-02  149.75  151.95  149.35  151.30   445138.0\n",
      "2017-01-03  150.90  151.05  148.80  149.25   641172.0\n",
      "2017-01-04  149.40  149.40  146.35  146.40   618563.0\n",
      "2017-01-05  145.25  145.80  143.50  144.30   739147.0\n",
      "2017-01-06  143.80  145.05  142.95  144.80   641054.0\n",
      "2017-01-09  145.10  145.40  144.15  144.50   583147.0\n",
      "2017-01-10  145.25  146.10  144.45  144.80   460627.0\n",
      "2017-01-11  144.75  146.25  144.70  145.55   412401.0\n",
      "2017-01-12  144.80  146.50  144.30  146.00   534037.0\n",
      "2017-01-13  146.45  147.95  145.35  147.95   487101.0\n",
      "2017-01-16  146.85  148.90  146.85  148.30   351401.0\n",
      "2017-01-17  147.65  147.80  145.85  147.35   433069.0\n",
      "2017-01-18  147.30  151.80  147.30  151.70   680676.0\n",
      "2017-01-19  151.75  152.85  150.60  152.30   621644.0\n",
      "2017-01-20  151.25  152.90  149.85  152.20   755126.0\n",
      "2017-01-23  151.40  153.50  151.25  152.50   474302.0\n",
      "2017-01-24  153.15  155.20  152.60  152.80   582573.0\n",
      "2017-01-25  154.00  155.75  153.55  153.85   600743.0\n",
      "2017-01-26  154.95  155.65  154.35  155.40   504806.0\n",
      "2017-01-27  155.55  156.35  153.20  153.85   698509.0\n",
      "2017-01-30  153.10  153.75  150.15  150.50   629433.0\n",
      "2017-01-31  150.20  152.00  145.65  145.65  1333715.0\n",
      "2017-02-01  146.15  148.35  145.60  147.30   807251.0\n",
      "2017-02-02  147.00  148.35  146.50  146.95   466670.0\n",
      "2017-02-03  146.90  147.90  146.20  147.00   509997.0\n",
      "2017-02-06  146.25  146.55  143.80  143.80   965588.0\n",
      "2017-02-07  143.00  145.80  142.60  144.30   578766.0\n",
      "2017-02-08  143.80  144.30  142.85  144.00   480704.0\n",
      "2017-02-09  144.75  148.45  144.35  148.00   642175.0\n",
      "2017-02-10  149.00  150.05  148.65  149.40   473664.0\n",
      "...            ...     ...     ...     ...        ...\n",
      "2017-11-17  185.00  187.15  184.70  185.80   931843.0\n",
      "2017-11-20  184.50  186.75  184.10  184.75   471215.0\n",
      "2017-11-21  184.85  187.85  184.45  187.65   639120.0\n",
      "2017-11-22  187.95  188.00  182.85  183.10   557297.0\n",
      "2017-11-23  182.05  183.10  181.35  181.75   454582.0\n",
      "2017-11-24  181.55  182.60  179.85  180.00   565448.0\n",
      "2017-11-27  179.80  181.00  178.80  179.20   461028.0\n",
      "2017-11-28  179.45  180.25  178.60  179.00   511487.0\n",
      "2017-11-29  180.20  181.65  177.55  177.65   900871.0\n",
      "2017-11-30  177.50  178.55  175.20  175.20  1046891.0\n",
      "2017-12-01  175.80  177.25  174.75  175.10   814902.0\n",
      "2017-12-04  176.30  178.50  175.90  177.25   663220.0\n",
      "2017-12-05  178.20  178.45  175.40  177.45   542846.0\n",
      "2017-12-06  175.70  180.15  175.50  179.25   712983.0\n",
      "2017-12-07  180.20  180.75  178.70  180.15   547397.0\n",
      "2017-12-08  181.90  182.25  180.35  180.60   689626.0\n",
      "2017-12-11  181.20  181.45  174.20  175.00  1030162.0\n",
      "2017-12-12  175.50  177.05  172.90  174.10   864438.0\n",
      "2017-12-13  172.40  173.85  167.05  169.10  1424597.0\n",
      "2017-12-14  168.05  171.10  165.05  169.10  1319192.0\n",
      "2017-12-15  171.15  172.30  170.25  172.25  1765858.0\n",
      "2017-12-18  173.50  174.70  172.80  173.45   671710.0\n",
      "2017-12-19  173.45  174.20  172.25  172.75   472602.0\n",
      "2017-12-20  173.05  173.15  169.85  170.25   526915.0\n",
      "2017-12-21  170.30  171.20  168.20  169.70   642033.0\n",
      "2017-12-22  169.15  170.65  168.80  169.40   693943.0\n",
      "2017-12-27  169.65  171.10  168.95  169.95   429614.0\n",
      "2017-12-28  170.00  170.50  168.00  168.35   393977.0\n",
      "2017-12-29  168.25  168.65  167.05  167.15   364619.0\n",
      "2018-01-02  167.15  167.70  165.25  167.15   587067.0\n",
      "\n",
      "[256 rows x 5 columns]\n"
     ]
    }
   ],
   "source": [
    "print(df)"
   ]
  },
  {
   "cell_type": "code",
   "execution_count": 4,
   "metadata": {},
   "outputs": [],
   "source": [
    "df['PCT_Change']= (df['Close'] - df['Open']) / (df['High']) * 100\n",
    "df['HL_PCT'] = (df['High'] - df['Close']) / (df['Close']) * 100"
   ]
  },
  {
   "cell_type": "code",
   "execution_count": 5,
   "metadata": {},
   "outputs": [
    {
     "name": "stdout",
     "output_type": "stream",
     "text": [
      "              Open    High     Low   Close     Volume  PCT_Change    HL_PCT\n",
      "Date                                                                       \n",
      "2017-01-02  149.75  151.95  149.35  151.30   445138.0    1.020072  0.429610\n",
      "2017-01-03  150.90  151.05  148.80  149.25   641172.0   -1.092354  1.206030\n",
      "2017-01-04  149.40  149.40  146.35  146.40   618563.0   -2.008032  2.049180\n",
      "2017-01-05  145.25  145.80  143.50  144.30   739147.0   -0.651578  1.039501\n",
      "2017-01-06  143.80  145.05  142.95  144.80   641054.0    0.689417  0.172652\n",
      "2017-01-09  145.10  145.40  144.15  144.50   583147.0   -0.412655  0.622837\n",
      "2017-01-10  145.25  146.10  144.45  144.80   460627.0   -0.308008  0.897790\n",
      "2017-01-11  144.75  146.25  144.70  145.55   412401.0    0.547009  0.480934\n",
      "2017-01-12  144.80  146.50  144.30  146.00   534037.0    0.819113  0.342466\n",
      "2017-01-13  146.45  147.95  145.35  147.95   487101.0    1.013856  0.000000\n",
      "2017-01-16  146.85  148.90  146.85  148.30   351401.0    0.973808  0.404585\n",
      "2017-01-17  147.65  147.80  145.85  147.35   433069.0   -0.202977  0.305395\n",
      "2017-01-18  147.30  151.80  147.30  151.70   680676.0    2.898551  0.065920\n",
      "2017-01-19  151.75  152.85  150.60  152.30   621644.0    0.359830  0.361129\n",
      "2017-01-20  151.25  152.90  149.85  152.20   755126.0    0.621321  0.459921\n",
      "2017-01-23  151.40  153.50  151.25  152.50   474302.0    0.716612  0.655738\n",
      "2017-01-24  153.15  155.20  152.60  152.80   582573.0   -0.225515  1.570681\n",
      "2017-01-25  154.00  155.75  153.55  153.85   600743.0   -0.096308  1.234969\n",
      "2017-01-26  154.95  155.65  154.35  155.40   504806.0    0.289110  0.160875\n",
      "2017-01-27  155.55  156.35  153.20  153.85   698509.0   -1.087304  1.624959\n",
      "2017-01-30  153.10  153.75  150.15  150.50   629433.0   -1.691057  2.159468\n",
      "2017-01-31  150.20  152.00  145.65  145.65  1333715.0   -2.993421  4.359767\n",
      "2017-02-01  146.15  148.35  145.60  147.30   807251.0    0.775194  0.712831\n",
      "2017-02-02  147.00  148.35  146.50  146.95   466670.0   -0.033704  0.952705\n",
      "2017-02-03  146.90  147.90  146.20  147.00   509997.0    0.067613  0.612245\n",
      "2017-02-06  146.25  146.55  143.80  143.80   965588.0   -1.671784  1.912378\n",
      "2017-02-07  143.00  145.80  142.60  144.30   578766.0    0.891632  1.039501\n",
      "2017-02-08  143.80  144.30  142.85  144.00   480704.0    0.138600  0.208333\n",
      "2017-02-09  144.75  148.45  144.35  148.00   642175.0    2.189289  0.304054\n",
      "2017-02-10  149.00  150.05  148.65  149.40   473664.0    0.266578  0.435074\n",
      "...            ...     ...     ...     ...        ...         ...       ...\n",
      "2017-11-17  185.00  187.15  184.70  185.80   931843.0    0.427465  0.726588\n",
      "2017-11-20  184.50  186.75  184.10  184.75   471215.0    0.133869  1.082544\n",
      "2017-11-21  184.85  187.85  184.45  187.65   639120.0    1.490551  0.106581\n",
      "2017-11-22  187.95  188.00  182.85  183.10   557297.0   -2.579787  2.676133\n",
      "2017-11-23  182.05  183.10  181.35  181.75   454582.0   -0.163845  0.742779\n",
      "2017-11-24  181.55  182.60  179.85  180.00   565448.0   -0.848850  1.444444\n",
      "2017-11-27  179.80  181.00  178.80  179.20   461028.0   -0.331492  1.004464\n",
      "2017-11-28  179.45  180.25  178.60  179.00   511487.0   -0.249653  0.698324\n",
      "2017-11-29  180.20  181.65  177.55  177.65   900871.0   -1.403799  2.251618\n",
      "2017-11-30  177.50  178.55  175.20  175.20  1046891.0   -1.288155  1.912100\n",
      "2017-12-01  175.80  177.25  174.75  175.10   814902.0   -0.394922  1.227870\n",
      "2017-12-04  176.30  178.50  175.90  177.25   663220.0    0.532213  0.705219\n",
      "2017-12-05  178.20  178.45  175.40  177.45   542846.0   -0.420286  0.563539\n",
      "2017-12-06  175.70  180.15  175.50  179.25   712983.0    1.970580  0.502092\n",
      "2017-12-07  180.20  180.75  178.70  180.15   547397.0   -0.027663  0.333056\n",
      "2017-12-08  181.90  182.25  180.35  180.60   689626.0   -0.713306  0.913621\n",
      "2017-12-11  181.20  181.45  174.20  175.00  1030162.0   -3.416919  3.685714\n",
      "2017-12-12  175.50  177.05  172.90  174.10   864438.0   -0.790737  1.694428\n",
      "2017-12-13  172.40  173.85  167.05  169.10  1424597.0   -1.898188  2.808989\n",
      "2017-12-14  168.05  171.10  165.05  169.10  1319192.0    0.613676  1.182732\n",
      "2017-12-15  171.15  172.30  170.25  172.25  1765858.0    0.638421  0.029028\n",
      "2017-12-18  173.50  174.70  172.80  173.45   671710.0   -0.028620  0.720669\n",
      "2017-12-19  173.45  174.20  172.25  172.75   472602.0   -0.401837  0.839363\n",
      "2017-12-20  173.05  173.15  169.85  170.25   526915.0   -1.617095  1.703377\n",
      "2017-12-21  170.30  171.20  168.20  169.70   642033.0   -0.350467  0.883913\n",
      "2017-12-22  169.15  170.65  168.80  169.40   693943.0    0.146499  0.737898\n",
      "2017-12-27  169.65  171.10  168.95  169.95   429614.0    0.175336  0.676670\n",
      "2017-12-28  170.00  170.50  168.00  168.35   393977.0   -0.967742  1.277101\n",
      "2017-12-29  168.25  168.65  167.05  167.15   364619.0   -0.652238  0.897398\n",
      "2018-01-02  167.15  167.70  165.25  167.15   587067.0    0.000000  0.329046\n",
      "\n",
      "[256 rows x 7 columns]\n"
     ]
    }
   ],
   "source": [
    "print(df)"
   ]
  },
  {
   "cell_type": "code",
   "execution_count": 12,
   "metadata": {},
   "outputs": [],
   "source": [
    "forecast_col = ['Close']\n",
    "df.fillna(-99999, inplace=True)"
   ]
  },
  {
   "cell_type": "code",
   "execution_count": 27,
   "metadata": {},
   "outputs": [],
   "source": [
    "forecast_out = int(math.ceil(0.01*len(df)))\n",
    "\n",
    "df['label'] = df[forecast_col].shift(-forecast_out)"
   ]
  },
  {
   "cell_type": "code",
   "execution_count": 28,
   "metadata": {},
   "outputs": [
    {
     "name": "stdout",
     "output_type": "stream",
     "text": [
      "              Open    High     Low   Close     Volume  PCT_Change    HL_PCT  \\\n",
      "Date                                                                          \n",
      "2017-01-02  149.75  151.95  149.35  151.30   445138.0    1.020072  0.429610   \n",
      "2017-01-03  150.90  151.05  148.80  149.25   641172.0   -1.092354  1.206030   \n",
      "2017-01-04  149.40  149.40  146.35  146.40   618563.0   -2.008032  2.049180   \n",
      "2017-01-05  145.25  145.80  143.50  144.30   739147.0   -0.651578  1.039501   \n",
      "2017-01-06  143.80  145.05  142.95  144.80   641054.0    0.689417  0.172652   \n",
      "2017-01-09  145.10  145.40  144.15  144.50   583147.0   -0.412655  0.622837   \n",
      "2017-01-10  145.25  146.10  144.45  144.80   460627.0   -0.308008  0.897790   \n",
      "2017-01-11  144.75  146.25  144.70  145.55   412401.0    0.547009  0.480934   \n",
      "2017-01-12  144.80  146.50  144.30  146.00   534037.0    0.819113  0.342466   \n",
      "2017-01-13  146.45  147.95  145.35  147.95   487101.0    1.013856  0.000000   \n",
      "2017-01-16  146.85  148.90  146.85  148.30   351401.0    0.973808  0.404585   \n",
      "2017-01-17  147.65  147.80  145.85  147.35   433069.0   -0.202977  0.305395   \n",
      "2017-01-18  147.30  151.80  147.30  151.70   680676.0    2.898551  0.065920   \n",
      "2017-01-19  151.75  152.85  150.60  152.30   621644.0    0.359830  0.361129   \n",
      "2017-01-20  151.25  152.90  149.85  152.20   755126.0    0.621321  0.459921   \n",
      "2017-01-23  151.40  153.50  151.25  152.50   474302.0    0.716612  0.655738   \n",
      "2017-01-24  153.15  155.20  152.60  152.80   582573.0   -0.225515  1.570681   \n",
      "2017-01-25  154.00  155.75  153.55  153.85   600743.0   -0.096308  1.234969   \n",
      "2017-01-26  154.95  155.65  154.35  155.40   504806.0    0.289110  0.160875   \n",
      "2017-01-27  155.55  156.35  153.20  153.85   698509.0   -1.087304  1.624959   \n",
      "2017-01-30  153.10  153.75  150.15  150.50   629433.0   -1.691057  2.159468   \n",
      "2017-01-31  150.20  152.00  145.65  145.65  1333715.0   -2.993421  4.359767   \n",
      "2017-02-01  146.15  148.35  145.60  147.30   807251.0    0.775194  0.712831   \n",
      "2017-02-02  147.00  148.35  146.50  146.95   466670.0   -0.033704  0.952705   \n",
      "2017-02-03  146.90  147.90  146.20  147.00   509997.0    0.067613  0.612245   \n",
      "2017-02-06  146.25  146.55  143.80  143.80   965588.0   -1.671784  1.912378   \n",
      "2017-02-07  143.00  145.80  142.60  144.30   578766.0    0.891632  1.039501   \n",
      "2017-02-08  143.80  144.30  142.85  144.00   480704.0    0.138600  0.208333   \n",
      "2017-02-09  144.75  148.45  144.35  148.00   642175.0    2.189289  0.304054   \n",
      "2017-02-10  149.00  150.05  148.65  149.40   473664.0    0.266578  0.435074   \n",
      "...            ...     ...     ...     ...        ...         ...       ...   \n",
      "2017-10-06  194.30  194.40  192.00  192.50   468097.0   -0.925926  0.987013   \n",
      "2017-10-09  192.95  195.55  192.60  195.10   379945.0    1.099463  0.230651   \n",
      "2017-10-10  195.90  196.75  194.20  195.00   346239.0   -0.457433  0.897436   \n",
      "2017-10-11  194.90  195.10  193.05  194.00   493216.0   -0.461302  0.567010   \n",
      "2017-10-12  193.80  194.70  193.30  194.00   319574.0    0.102722  0.360825   \n",
      "2017-10-13  194.55  194.60  193.05  193.10   364486.0   -0.745118  0.776800   \n",
      "2017-10-16  192.30  193.55  191.20  192.15   381552.0   -0.077499  0.728597   \n",
      "2017-10-17  192.50  193.40  190.80  191.30   451202.0   -0.620476  1.097752   \n",
      "2017-10-18  192.00  192.05  189.15  190.50   725811.0   -0.781047  0.813648   \n",
      "2017-10-19  190.95  191.20  186.70  186.85   734469.0   -2.144351  2.328071   \n",
      "2017-10-20  187.30  188.45  186.55  187.25   656414.0   -0.026532  0.640854   \n",
      "2017-10-23  186.50  189.55  186.20  187.00   631654.0    0.263783  1.363636   \n",
      "2017-10-24  186.40  188.35  185.85  187.40   519258.0    0.530926  0.506937   \n",
      "2017-10-25  187.75  188.85  186.10  186.35   424470.0   -0.741329  1.341562   \n",
      "2017-10-26  186.90  191.25  186.75  190.50   627938.0    1.882353  0.393701   \n",
      "2017-10-27  191.20  192.65  190.75  191.40   601986.0    0.103815  0.653083   \n",
      "2017-10-30  191.40  192.00  190.60  191.05   456067.0   -0.182292  0.497252   \n",
      "2017-11-01  191.05  191.90  187.70  187.70  1114602.0   -1.745701  2.237613   \n",
      "2017-11-02  187.70  189.90  185.90  187.15   643815.0   -0.289626  1.469410   \n",
      "2017-11-03  187.30  188.50  186.35  187.00   495932.0   -0.159151  0.802139   \n",
      "2017-11-06  185.50  185.55  182.65  183.00  1048539.0   -1.347346  1.393443   \n",
      "2017-11-07  183.55  184.60  182.80  183.40   822646.0   -0.081257  0.654308   \n",
      "2017-11-08  184.05  186.40  183.80  184.10   638639.0    0.026824  1.249321   \n",
      "2017-11-09  185.75  185.75  175.10  175.50  2235579.0   -5.518170  5.840456   \n",
      "2017-11-10  176.35  182.05  175.20  181.00  1351864.0    2.554243  0.580110   \n",
      "2017-11-13  181.80  183.90  180.60  183.90   808624.0    1.141925  0.000000   \n",
      "2017-11-14  183.95  188.35  183.00  187.45  1007133.0    1.858243  0.480128   \n",
      "2017-11-15  186.50  187.40  183.25  186.10   849944.0   -0.213447  0.698549   \n",
      "2017-11-16  187.00  187.60  184.15  184.70   617637.0   -1.226013  1.570114   \n",
      "2017-11-17  185.00  187.15  184.70  185.80   931843.0    0.427465  0.726588   \n",
      "\n",
      "             label  \n",
      "Date                \n",
      "2017-01-02  144.30  \n",
      "2017-01-03  144.80  \n",
      "2017-01-04  144.50  \n",
      "2017-01-05  144.80  \n",
      "2017-01-06  145.55  \n",
      "2017-01-09  146.00  \n",
      "2017-01-10  147.95  \n",
      "2017-01-11  148.30  \n",
      "2017-01-12  147.35  \n",
      "2017-01-13  151.70  \n",
      "2017-01-16  152.30  \n",
      "2017-01-17  152.20  \n",
      "2017-01-18  152.50  \n",
      "2017-01-19  152.80  \n",
      "2017-01-20  153.85  \n",
      "2017-01-23  155.40  \n",
      "2017-01-24  153.85  \n",
      "2017-01-25  150.50  \n",
      "2017-01-26  145.65  \n",
      "2017-01-27  147.30  \n",
      "2017-01-30  146.95  \n",
      "2017-01-31  147.00  \n",
      "2017-02-01  143.80  \n",
      "2017-02-02  144.30  \n",
      "2017-02-03  144.00  \n",
      "2017-02-06  148.00  \n",
      "2017-02-07  149.40  \n",
      "2017-02-08  151.25  \n",
      "2017-02-09  150.80  \n",
      "2017-02-10  149.55  \n",
      "...            ...  \n",
      "2017-10-06  194.00  \n",
      "2017-10-09  194.00  \n",
      "2017-10-10  193.10  \n",
      "2017-10-11  192.15  \n",
      "2017-10-12  191.30  \n",
      "2017-10-13  190.50  \n",
      "2017-10-16  186.85  \n",
      "2017-10-17  187.25  \n",
      "2017-10-18  187.00  \n",
      "2017-10-19  187.40  \n",
      "2017-10-20  186.35  \n",
      "2017-10-23  190.50  \n",
      "2017-10-24  191.40  \n",
      "2017-10-25  191.05  \n",
      "2017-10-26  187.70  \n",
      "2017-10-27  187.15  \n",
      "2017-10-30  187.00  \n",
      "2017-11-01  183.00  \n",
      "2017-11-02  183.40  \n",
      "2017-11-03  184.10  \n",
      "2017-11-06  175.50  \n",
      "2017-11-07  181.00  \n",
      "2017-11-08  183.90  \n",
      "2017-11-09  187.45  \n",
      "2017-11-10  186.10  \n",
      "2017-11-13  184.70  \n",
      "2017-11-14  185.80  \n",
      "2017-11-15     NaN  \n",
      "2017-11-16     NaN  \n",
      "2017-11-17     NaN  \n",
      "\n",
      "[227 rows x 8 columns]\n"
     ]
    }
   ],
   "source": [
    "print(df)"
   ]
  },
  {
   "cell_type": "code",
   "execution_count": 29,
   "metadata": {},
   "outputs": [],
   "source": [
    "X = np.array(df.drop(['label'], 1))\n",
    "X = preprocessing.scale(X)\n",
    "X_lately = X[-forecast_out:]\n",
    "X = X[:-forecast_out:]"
   ]
  },
  {
   "cell_type": "code",
   "execution_count": 39,
   "metadata": {},
   "outputs": [],
   "source": [
    "df.dropna(inplace = True)\n",
    "y = np.array(df['label'])\n"
   ]
  },
  {
   "cell_type": "code",
   "execution_count": 31,
   "metadata": {},
   "outputs": [],
   "source": [
    "X_train, X_test, y_train, y_test = cross_validation.train_test_split(X, y, test_size=0.1)\n",
    "clf = LinearRegression(n_jobs=-1)\n",
    "clf.fit(X_train,y_train)\n",
    "accuracy = clf.score(X_test, y_test)"
   ]
  },
  {
   "cell_type": "code",
   "execution_count": 32,
   "metadata": {},
   "outputs": [],
   "source": [
    "forecast_set = clf.predict(X_lately)"
   ]
  },
  {
   "cell_type": "code",
   "execution_count": 33,
   "metadata": {},
   "outputs": [
    {
     "name": "stdout",
     "output_type": "stream",
     "text": [
      "[186.4770144  185.11080793 185.49248393] 0.8871816763059596 3\n"
     ]
    }
   ],
   "source": [
    "print(forecast_set, accuracy, forecast_out)"
   ]
  },
  {
   "cell_type": "code",
   "execution_count": 34,
   "metadata": {},
   "outputs": [],
   "source": [
    "df['Forecast'] = np.nan"
   ]
  },
  {
   "cell_type": "code",
   "execution_count": 35,
   "metadata": {},
   "outputs": [],
   "source": [
    "last_date = df.iloc[-1].name\n",
    "last_unix = last_date.timestamp()\n",
    "one_day = 86400\n",
    "next_unix = last_unix + one_day\n",
    "\n",
    "for i in forecast_set:\n",
    "    next_date = datetime.datetime.fromtimestamp(next_unix)\n",
    "    next_unix += 86400\n",
    "    df.loc[next_date] = [np.nan for _ in range(len(df.columns)-1)]+[i]"
   ]
  },
  {
   "cell_type": "code",
   "execution_count": 36,
   "metadata": {},
   "outputs": [
    {
     "data": {
      "image/png": "[encoded data removed]",
      "text/plain": [
       "<matplotlib.figure.Figure at 0x10ac4f4e0>"
      ]
     },
     "metadata": {},
     "output_type": "display_data"
    }
   ],
   "source": [
    "df['Close'].plot()\n",
    "df['Forecast'].plot()\n",
    "plt.legend(loc=4)\n",
    "plt.xlabel('Date')\n",
    "plt.ylabel('Price')\n",
    "plt.show()"
   ]
  },
  {
   "cell_type": "code",
   "execution_count": null,
   "metadata": {},
   "outputs": [],
   "source": []
  }
 ],
 "metadata": {
  "kernelspec": {
   "display_name": "Python 3",
   "language": "python",
   "name": "python3"
  },
  "language_info": {
   "codemirror_mode": {
    "name": "ipython",
    "version": 3
   },
   "file_extension": ".py",
   "mimetype": "text/x-python",
   "name": "python",
   "nbconvert_exporter": "python",
   "pygments_lexer": "ipython3",
   "version": "3.6.4"
  }
 },
 "nbformat": 4,
 "nbformat_minor": 2
}
